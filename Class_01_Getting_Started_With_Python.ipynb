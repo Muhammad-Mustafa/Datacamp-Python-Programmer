{
 "cells": [
  {
   "cell_type": "markdown",
   "metadata": {},
   "source": [
    "# Getting started with python"
   ]
  },
  {
   "cell_type": "markdown",
   "metadata": {},
   "source": [
    "### Python Modules and Alies\n",
    "\n",
    "In python we use different modules (libraries, packages), to use these packages we need to import them in our file and \n",
    "\n",
    "also we use an Alies **as** keyword while importing a module, all the modules have some standerd alies to use "
   ]
  },
  {
   "cell_type": "code",
   "execution_count": 2,
   "metadata": {},
   "outputs": [],
   "source": [
    "# Python Modules and Alies\n",
    "\n",
    "import seaborn #without alies \n",
    "import numpy as np #with alis"
   ]
  },
  {
   "cell_type": "markdown",
   "metadata": {},
   "source": [
    "### Data Types and variables \n",
    "\n",
    "In python we have few data types like ints, floats, string and boolean \n",
    "\n",
    "To store any type of the data we use variables "
   ]
  },
  {
   "cell_type": "code",
   "execution_count": 5,
   "metadata": {},
   "outputs": [
    {
     "name": "stdout",
     "output_type": "stream",
     "text": [
      "number :  12 <class 'int'>\n",
      "float_number :  (12, 343) <class 'tuple'>\n",
      "string :  Hello World <class 'str'>\n"
     ]
    }
   ],
   "source": [
    "number = 12\n",
    "float_number =12,343\n",
    "string = \"Hello World\"\n",
    "\n",
    "print('number : ', number, type(number))\n",
    "print('float_number : ', float_number, type(float_number))\n",
    "print('string : ', string, type(string))"
   ]
  },
  {
   "cell_type": "markdown",
   "metadata": {},
   "source": [
    "### Functions\n",
    "\n",
    "we use functions when we need to reuse our code "
   ]
  },
  {
   "cell_type": "code",
   "execution_count": 6,
   "metadata": {},
   "outputs": [
    {
     "name": "stdout",
     "output_type": "stream",
     "text": [
      "7\n"
     ]
    }
   ],
   "source": [
    "def add (a, b):\n",
    "  return a + b\n",
    "\n",
    "print(add(3,4))"
   ]
  },
  {
   "cell_type": "markdown",
   "metadata": {},
   "source": [
    "### Introduction to Pandas"
   ]
  },
  {
   "cell_type": "code",
   "execution_count": null,
   "metadata": {},
   "outputs": [],
   "source": []
  }
 ],
 "metadata": {
  "interpreter": {
   "hash": "7288967d5f11ce47955d79338e5771b1b15cd7c8812840c62625f2f089f1b3af"
  },
  "kernelspec": {
   "display_name": "Python 3.10.4 64-bit",
   "language": "python",
   "name": "python3"
  },
  "language_info": {
   "codemirror_mode": {
    "name": "ipython",
    "version": 3
   },
   "file_extension": ".py",
   "mimetype": "text/x-python",
   "name": "python",
   "nbconvert_exporter": "python",
   "pygments_lexer": "ipython3",
   "version": "3.10.4"
  },
  "orig_nbformat": 4
 },
 "nbformat": 4,
 "nbformat_minor": 2
}
